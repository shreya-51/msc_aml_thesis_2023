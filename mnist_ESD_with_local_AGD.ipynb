{
  "cells": [
    {
      "cell_type": "code",
      "execution_count": null,
      "metadata": {
        "id": "Pyd1rz813mEo"
      },
      "outputs": [],
      "source": [
        "## IMPORTS ##\n",
        "\n",
        "import os\n",
        "import networkx as nx\n",
        "import matplotlib.pyplot as plt\n",
        "import numpy as np\n",
        "import torch\n",
        "from torch import nn\n",
        "from torchvision import datasets, transforms\n",
        "from torch.utils.data import DataLoader\n",
        "import torch.nn.functional as F\n",
        "from scipy.linalg import kron"
      ]
    },
    {
      "cell_type": "code",
      "execution_count": null,
      "metadata": {
        "colab": {
          "base_uri": "https://localhost:8080/",
          "height": 287
        },
        "id": "UMAVkFc33pSZ",
        "outputId": "4de16159-ccaa-4ad1-9e5b-117d629b8241"
      },
      "outputs": [
        {
          "data": {
            "image/png": "[encoded data removed]",
            "text/plain": [
              "<Figure size 250x250 with 1 Axes>"
            ]
          },
          "metadata": {},
          "output_type": "display_data"
        }
      ],
      "source": [
        "## GENERATE RANDOM GRAPH ##\n",
        "\n",
        "N = 4  # number of nodes\n",
        "p = 1  # probability of creating edge\n",
        "\n",
        "# generate random graph\n",
        "G = nx.erdos_renyi_graph(N, p)\n",
        "\n",
        "# visualize graph\n",
        "plt.figure(figsize=(2.5, 2.5))\n",
        "nx.draw(G, with_labels=True)\n",
        "plt.show()"
      ]
    },
    {
      "cell_type": "code",
      "execution_count": null,
      "metadata": {
        "id": "c1Jo6jjc3sG7"
      },
      "outputs": [],
      "source": [
        "## CALCULATE A FROM GRAPH ##\n",
        "\n",
        "adj_matrix = nx.adjacency_matrix(G).todense()\n",
        "\n",
        "def get_A(adj_matrix):\n",
        "    \"\"\"\n",
        "    This function works given the following assumptions on the adjacency matrix:\n",
        "        1. square\n",
        "        2. symmetric (graph is undirected)\n",
        "        3. binary\n",
        "    \"\"\"\n",
        "\n",
        "    N_agents = adj_matrix.shape[0]  # num agents\n",
        "    A = np.zeros((2*N_agents, 2*N_agents)) # size of A will be 2*size of adj_matrix (to account for shared and local layers)\n",
        "\n",
        "    for i in range(N_agents):\n",
        "        agent_num = i + 1 # makes the math easier\n",
        "\n",
        "        # update local layer row (only depends on itself)\n",
        "        local_layer_index = (2 * agent_num) - 1\n",
        "        A[local_layer_index, local_layer_index] = 1\n",
        "\n",
        "        # update shared layer row\n",
        "        for j in range(N_agents):\n",
        "            constant = np.count_nonzero(adj_matrix[i, :]) + 1 # number of connections agent i has including itself\n",
        "            shared_layer_index = 2 * (agent_num - 1)\n",
        "            if adj_matrix[i, j] == 1 or j == i:\n",
        "                A[shared_layer_index, 2 * (j - 1)] = 1/constant\n",
        "    return A\n",
        "\n",
        "A = get_A(adj_matrix)"
      ]
    },
    {
      "cell_type": "code",
      "execution_count": null,
      "metadata": {
        "id": "Mcy26Zat3tce"
      },
      "outputs": [],
      "source": [
        "## DEFINE NEURAL NETWORK ARCHITECTURE ##\n",
        "\n",
        "# shared layers only\n",
        "class SharedNet(nn.Module):\n",
        "    def __init__(self):\n",
        "        super(SharedNet, self).__init__()\n",
        "        self.conv1 = nn.Conv2d(1, 16, kernel_size=3, padding=1)\n",
        "        self.pool = nn.MaxPool2d(2, 2)\n",
        "        self.conv2 = nn.Conv2d(16, 32, kernel_size=3, padding=1)\n",
        "\n",
        "    def forward(self, x):\n",
        "        x = self.pool(F.relu(self.conv1(x)))\n",
        "        x = self.pool(F.relu(self.conv2(x)))\n",
        "        shape_before_flatten = x.shape\n",
        "        x = x.view(-1, 32 * shape_before_flatten[2] * shape_before_flatten[3])\n",
        "        return x, shape_before_flatten\n",
        "\n",
        "# task-specific model\n",
        "class Agent(nn.Module):\n",
        "    def __init__(self, shared_net, output_dim):\n",
        "        super(Agent, self).__init__()\n",
        "        self.shared = shared_net\n",
        "        self.task_specific = nn.Sequential(\n",
        "            nn.Conv2d(32, 64, kernel_size=1, padding=0),\n",
        "            nn.ReLU(),\n",
        "            nn.MaxPool2d(2, 2),\n",
        "            nn.Flatten(),\n",
        "            nn.Linear(64*2*2, output_dim)\n",
        "        )\n",
        "\n",
        "    def forward(self, x):\n",
        "        x, shape_before_flatten = self.shared(x)\n",
        "        x = x.view(shape_before_flatten)\n",
        "        x = self.task_specific(x)\n",
        "        return x"
      ]
    },
    {
      "cell_type": "code",
      "execution_count": null,
      "metadata": {
        "colab": {
          "base_uri": "https://localhost:8080/"
        },
        "id": "fxD7tRON3u-f",
        "outputId": "584a2180-5ead-43e0-f525-b635c5b6764a"
      },
      "outputs": [
        {
          "name": "stdout",
          "output_type": "stream",
          "text": [
            "Downloading http://yann.lecun.com/exdb/mnist/train-images-idx3-ubyte.gz\n",
            "Downloading http://yann.lecun.com/exdb/mnist/train-images-idx3-ubyte.gz to ./data/MNIST/raw/train-images-idx3-ubyte.gz\n"
          ]
        },
        {
          "name": "stderr",
          "output_type": "stream",
          "text": [
            "100%|██████████| 9912422/9912422 [00:00<00:00, 157172980.86it/s]"
          ]
        },
        {
          "name": "stdout",
          "output_type": "stream",
          "text": [
            "Extracting ./data/MNIST/raw/train-images-idx3-ubyte.gz to ./data/MNIST/raw\n"
          ]
        },
        {
          "name": "stderr",
          "output_type": "stream",
          "text": [
            "\n"
          ]
        },
        {
          "name": "stdout",
          "output_type": "stream",
          "text": [
            "\n",
            "Downloading http://yann.lecun.com/exdb/mnist/train-labels-idx1-ubyte.gz\n",
            "Downloading http://yann.lecun.com/exdb/mnist/train-labels-idx1-ubyte.gz to ./data/MNIST/raw/train-labels-idx1-ubyte.gz\n"
          ]
        },
        {
          "name": "stderr",
          "output_type": "stream",
          "text": [
            "100%|██████████| 28881/28881 [00:00<00:00, 27599839.10it/s]\n"
          ]
        },
        {
          "name": "stdout",
          "output_type": "stream",
          "text": [
            "Extracting ./data/MNIST/raw/train-labels-idx1-ubyte.gz to ./data/MNIST/raw\n",
            "\n",
            "Downloading http://yann.lecun.com/exdb/mnist/t10k-images-idx3-ubyte.gz\n",
            "Downloading http://yann.lecun.com/exdb/mnist/t10k-images-idx3-ubyte.gz to ./data/MNIST/raw/t10k-images-idx3-ubyte.gz\n"
          ]
        },
        {
          "name": "stderr",
          "output_type": "stream",
          "text": [
            "100%|██████████| 1648877/1648877 [00:00<00:00, 44560868.79it/s]\n"
          ]
        },
        {
          "name": "stdout",
          "output_type": "stream",
          "text": [
            "Extracting ./data/MNIST/raw/t10k-images-idx3-ubyte.gz to ./data/MNIST/raw\n",
            "\n",
            "Downloading http://yann.lecun.com/exdb/mnist/t10k-labels-idx1-ubyte.gz\n",
            "Downloading http://yann.lecun.com/exdb/mnist/t10k-labels-idx1-ubyte.gz to ./data/MNIST/raw/t10k-labels-idx1-ubyte.gz\n"
          ]
        },
        {
          "name": "stderr",
          "output_type": "stream",
          "text": [
            "100%|██████████| 4542/4542 [00:00<00:00, 9626340.96it/s]\n"
          ]
        },
        {
          "name": "stdout",
          "output_type": "stream",
          "text": [
            "Extracting ./data/MNIST/raw/t10k-labels-idx1-ubyte.gz to ./data/MNIST/raw\n",
            "\n"
          ]
        }
      ],
      "source": [
        "## LOAD MNIST DATA ##\n",
        "\n",
        "# set up data loading for MNIST\n",
        "#transform = transforms.Compose([transforms.ToTensor(), transforms.Normalize((0.5,), (0.5,))])\n",
        "\n",
        "transform = transforms.Compose([\n",
        "    transforms.Resize(16),\n",
        "    transforms.ToTensor(),\n",
        "    transforms.Normalize((0.5,), (0.5,))\n",
        "])\n",
        "\n",
        "# load train and test sets\n",
        "trainset = datasets.MNIST(root='./data', train=True, download=True, transform=transform)\n",
        "testset = datasets.MNIST(root='./data', train=False, download=True, transform=transform)\n",
        "\n",
        "# split into task specific datasets\n",
        "trainset_agent = [[(x, y) for x, y in trainset if y < 5], [(x, y - 5) for x, y in trainset if y >= 5]]\n",
        "\n",
        "# set up data loaders\n",
        "trainloader_agent = []\n",
        "for trainset in trainset_agent:\n",
        "    trainloader_agent.append(DataLoader(trainset, batch_size=32, shuffle=True))"
      ]
    },
    {
      "cell_type": "code",
      "execution_count": null,
      "metadata": {
        "id": "q-Rt0Olq3w0n"
      },
      "outputs": [],
      "source": [
        "import math\n",
        "from torch.nn.init import orthogonal_\n",
        "\n",
        "class CustomOpt(torch.optim.Optimizer):\n",
        "    def __init__(self, params, A, E, lr=0.01):\n",
        "        defaults = dict(lr=lr)\n",
        "        self.A = A\n",
        "        self.E = E\n",
        "        self.lr = lr/E\n",
        "\n",
        "        self.weights_store = None\n",
        "        self.psi = None\n",
        "        self.old_psi = None\n",
        "        self.phi = None\n",
        "\n",
        "        self.param_info = None\n",
        "        self.setup_weights = False\n",
        "\n",
        "        super(CustomOpt, self).__init__(params, defaults)\n",
        "\n",
        "    def singular_value(self, p):\n",
        "        try:\n",
        "            sv = math.sqrt(p.shape[0] / p.shape[1])\n",
        "            if p.dim() == 4:\n",
        "                sv /= math.sqrt(p.shape[2] * p.shape[3])\n",
        "            return sv\n",
        "        except:\n",
        "            print()\n",
        "            #print(p.shape)\n",
        "\n",
        "    @torch.no_grad()\n",
        "    def init_weights(self, params):\n",
        "        for group in params:\n",
        "            for p in group['params']:\n",
        "                if p.dim() == 2: orthogonal_(p)\n",
        "                if p.dim() == 4:\n",
        "                    for kx in range(p.shape[2]):\n",
        "                        for ky in range(p.shape[3]):\n",
        "                            orthogonal_(p[:,:,kx,ky])\n",
        "                if p.dim() == 1:\n",
        "                    continue # skip biases\n",
        "                p *= self.singular_value(p)\n",
        "\n",
        "    def setup_params(self):\n",
        "        param_vector = []\n",
        "        grad_vector = []\n",
        "        #param_info = []\n",
        "        all_param_info = []\n",
        "\n",
        "        depth = 0\n",
        "        for group in self.param_groups:\n",
        "            for param in group['params']:\n",
        "                depth += param.numel()\n",
        "\n",
        "        G = 0\n",
        "\n",
        "        lr_vector = []\n",
        "\n",
        "        # lr calculation\n",
        "        for group in self.param_groups:\n",
        "            for param in group['params']:\n",
        "                check = self.singular_value(param)\n",
        "                if check != None:\n",
        "                    G += self.singular_value(param) * param.grad.norm().sum()\n",
        "\n",
        "        # add\n",
        "        #G /= depth\n",
        "\n",
        "        log = math.log(0.5 * (1 + math.sqrt(1 + 4*G)))\n",
        "\n",
        "        for group in self.param_groups:\n",
        "            group_lr_vector = []\n",
        "            for param in group['params']:\n",
        "                #print(param.numel())\n",
        "                check = self.singular_value(param)\n",
        "                if check == None:\n",
        "                    group_lr_vector.append([self.lr] * param.numel())\n",
        "                else:\n",
        "                    factor = self.singular_value(param) / param.grad.norm(keepdim=True)\n",
        "                    temp_lr = 1.0 * log / depth * torch.nan_to_num(factor) # set self.gain to 1.0 for now\n",
        "                    group_lr_vector.append([temp_lr.item()] * param.numel())\n",
        "            group_lr_vector = [item for sublist in group_lr_vector for item in sublist]\n",
        "            lr_vector.append(group_lr_vector)\n",
        "\n",
        "        # original param/grad setup\n",
        "        for group in self.param_groups:\n",
        "            flat_params = [param.view(-1) for param in group['params']]\n",
        "            flat_grads = [param.grad.view(-1) for param in group['params']]\n",
        "            param_info = []\n",
        "            start_idx = 0\n",
        "\n",
        "            for param, flat_param in zip(group['params'], flat_params):\n",
        "                end_idx = start_idx + flat_param.size(0)\n",
        "                param_info.append((param, start_idx, end_idx, param.size()))\n",
        "                start_idx = end_idx\n",
        "\n",
        "            try:\n",
        "                concat_params = torch.cat(flat_params)\n",
        "            except:\n",
        "                print(len(flat_params))\n",
        "                print(flat_params[0])\n",
        "            concat_grads = torch.cat(flat_grads)\n",
        "            param_vector.append(concat_params)\n",
        "            grad_vector.append(concat_grads)\n",
        "            all_param_info.append(param_info)\n",
        "\n",
        "        max_length = max([tensor.size(0) for tensor in param_vector])\n",
        "\n",
        "        param_vector = [torch.nn.functional.pad(tensor, (0, max_length - tensor.size(0))) for tensor in param_vector]\n",
        "        grad_vector = [torch.nn.functional.pad(tensor, (0, max_length - tensor.size(0))) for tensor in grad_vector]\n",
        "\n",
        "        param_matrix = torch.stack(param_vector)\n",
        "        grad_matrix = torch.stack(grad_vector)\n",
        "\n",
        "        return param_matrix, grad_matrix, all_param_info, lr_vector\n",
        "\n",
        "    def putback_params(self, updated_params_matrix, all_param_info):\n",
        "        for group_idx, param_info_list in enumerate(all_param_info):\n",
        "          updated_values_group = updated_params_matrix[group_idx]\n",
        "\n",
        "          for param_info in param_info_list:\n",
        "              param, start_idx, end_idx, original_shape = param_info\n",
        "              updated_values = updated_values_group[start_idx:end_idx]\n",
        "              param.data = updated_values.view(original_shape)\n",
        "\n",
        "    def local_step(self):\n",
        "        # set up params\n",
        "        param_matrix, grad_matrix, param_info, lr_matrix = self.setup_params()\n",
        "\n",
        "        max_len = max(len(sublist) for sublist in lr_matrix)\n",
        "        padded_lists = [sublist + [0] * (max_len - len(sublist)) for sublist in lr_matrix]\n",
        "        lr_matrix = torch.tensor(padded_lists)\n",
        "\n",
        "        if self.param_info == None:\n",
        "            self.param_info = param_info # should always be the same, therefore only assign it once\n",
        "\n",
        "        # if it is the first loop of E, save the current iteration's weights to be used to update phi at the end of the E loop\n",
        "        if self.weights_store == None:\n",
        "            self.weights_store = param_matrix.clone()\n",
        "\n",
        "        # update one E step\n",
        "        # param_matrix = param_matrix - self.lr * grad_matrix\n",
        "        param_matrix = param_matrix - lr_matrix * grad_matrix\n",
        "        self.psi = param_matrix.clone()\n",
        "\n",
        "        # put back params\n",
        "        self.putback_params(param_matrix, param_info)\n",
        "\n",
        "    def correct(self):\n",
        "        if self.old_psi == None:\n",
        "            phi = self.psi.clone()\n",
        "        else:\n",
        "            phi = self.weights_store + self.psi - self.old_psi\n",
        "\n",
        "        # store new old_psi\n",
        "        self.old_psi = self.psi.clone()\n",
        "\n",
        "        # reset weights_store for next epoch\n",
        "        self.weights_store = None\n",
        "\n",
        "        # store phi to update weights\n",
        "        self.phi = phi.clone()\n",
        "\n",
        "    def step(self):\n",
        "        # if it is the first step, intialize the weights\n",
        "        if self.setup_weights == False:\n",
        "            self.init_weights(self.param_groups)\n",
        "            self.setup_weights = True\n",
        "\n",
        "        # update weights+biases\n",
        "        torch_A = torch.from_numpy(self.A).float()\n",
        "        torch_A = 0.5 * (torch_A + torch.eye(torch_A.size(0)))\n",
        "        updated_params_matrix = torch.matmul(torch_A, self.phi)\n",
        "\n",
        "        # put back params\n",
        "        self.putback_params(updated_params_matrix, self.param_info)\n",
        "        return 1"
      ]
    },
    {
      "cell_type": "code",
      "execution_count": null,
      "metadata": {
        "id": "SJpfLrp_36lI"
      },
      "outputs": [],
      "source": [
        "# initialize full task-specific networks (N copies of shared + local network architecture)\n",
        "shared_networks = []\n",
        "agent_networks = []\n",
        "for n in range(N):\n",
        "    shared_net = SharedNet()\n",
        "    shared_networks.append(shared_net)\n",
        "    agent_networks.append(Agent(shared_net, 5)) # 5 output classes to demonstrate with MNIST data"
      ]
    },
    {
      "cell_type": "code",
      "execution_count": null,
      "metadata": {
        "id": "h9te0X0p37y9"
      },
      "outputs": [],
      "source": [
        "param_list = []\n",
        "E = 2\n",
        "\n",
        "for network in agent_networks:\n",
        "    param_list.append({'params': network.shared.parameters()})\n",
        "    param_list.append({'params': network.task_specific.parameters()})\n",
        "\n",
        "optimizer = CustomOpt(param_list, A, E, lr=0.0025)\n",
        "criterion = nn.CrossEntropyLoss()"
      ]
    },
    {
      "cell_type": "code",
      "execution_count": null,
      "metadata": {
        "colab": {
          "base_uri": "https://localhost:8080/",
          "height": 1000
        },
        "id": "RNrK2KGx389d",
        "outputId": "1749252d-301b-4e94-a868-32a706d79f1b"
      },
      "outputs": [],
      "source": [
        "agent1_losses = []\n",
        "agent2_losses = []\n",
        "agent3_losses = []\n",
        "agent4_losses = []\n",
        "\n",
        "num_epochs = 20\n",
        "\n",
        "for epoch in range(num_epochs):\n",
        "    agent1_loss = 0.0\n",
        "    agent2_loss = 0.0\n",
        "    agent3_loss = 0.0\n",
        "    agent4_loss = 0.0\n",
        "    num_batches = 0\n",
        "\n",
        "    for (inputs1, labels1), (inputs2, labels2) in zip(trainloader_agent[0], trainloader_agent[1]):\n",
        "        agent1 = agent_networks[0]\n",
        "        agent2 = agent_networks[1]\n",
        "        agent3 = agent_networks[2]\n",
        "        agent4 = agent_networks[3]\n",
        "\n",
        "\n",
        "        optimizer.zero_grad()\n",
        "\n",
        "        # e loop\n",
        "        for e in range(E):\n",
        "            optimizer.zero_grad()\n",
        "            outputs1 = agent1(inputs1)\n",
        "            outputs2 = agent2(inputs2)\n",
        "            outputs3 = agent3(inputs1)\n",
        "            outputs4 = agent4(inputs2)\n",
        "\n",
        "            loss1 = criterion(outputs1, labels1)\n",
        "            loss2 = criterion(outputs2, labels2)\n",
        "            loss3 = criterion(outputs3, labels1)\n",
        "            loss4 = criterion(outputs4, labels2)\n",
        "\n",
        "            total_loss = loss1 + loss2 + loss3 + loss4\n",
        "            total_loss.backward()\n",
        "\n",
        "            optimizer.local_step()\n",
        "\n",
        "        # correction\n",
        "        optimizer.correct()\n",
        "\n",
        "        # update all weights_i\n",
        "        optimizer.step()\n",
        "\n",
        "        agent1_loss += loss1.item()\n",
        "        agent2_loss += loss2.item()\n",
        "        agent3_loss += loss3.item()\n",
        "        agent4_loss += loss4.item()\n",
        "        num_batches += 1\n",
        "\n",
        "    agent1_loss /= num_batches\n",
        "    agent2_loss /= num_batches\n",
        "    agent1_losses.append(agent1_loss)\n",
        "    agent2_losses.append(agent2_loss)\n",
        "\n",
        "    agent3_loss /= num_batches\n",
        "    agent4_loss /= num_batches\n",
        "    agent3_losses.append(agent3_loss)\n",
        "    agent4_losses.append(agent4_loss)\n",
        "\n",
        "    print(f'Epoch {epoch+1}, Agent1 Loss: {agent1_loss}, Agent2 Loss: {agent2_loss}, Agent3 Loss: {agent3_loss}, Agent4 Loss: {agent4_loss}')\n",
        "\n",
        "# After training is done, plot the losses\n",
        "plt.figure(figsize=(10, 7))\n",
        "plt.plot(range(num_epochs), agent1_losses, label='Agent 1 Loss')\n",
        "plt.plot(range(num_epochs), agent2_losses, label='Agent 2 Loss')\n",
        "plt.plot(range(num_epochs), agent3_losses, label='Agent 3 Loss')\n",
        "plt.plot(range(num_epochs), agent4_losses, label='Agent 4 Loss')\n",
        "plt.xlabel('Epochs')\n",
        "plt.ylabel('Loss')\n",
        "plt.legend()\n",
        "plt.show()"
      ]
    },
    {
      "cell_type": "code",
      "execution_count": null,
      "metadata": {
        "id": "oY3unOSqgHD6"
      },
      "outputs": [],
      "source": [
        "import pickle\n",
        "\n",
        "with open(\"local_agd_mnist.pkl\", \"wb\") as file:\n",
        "  pickle.dump((agent1_losses, agent2_losses, agent3_losses, agent4_losses), file)\n"
      ]
    }
  ],
  "metadata": {
    "colab": {
      "provenance": [],
      "toc_visible": true
    },
    "kernelspec": {
      "display_name": "Python 3",
      "name": "python3"
    },
    "language_info": {
      "name": "python"
    }
  },
  "nbformat": 4,
  "nbformat_minor": 0
}
